{
 "cells": [
  {
   "cell_type": "code",
   "execution_count": 8,
   "id": "b07a24df",
   "metadata": {},
   "outputs": [],
   "source": [
    "import pandas as pd \n",
    "import numpy as np\n",
    "import os \n",
    "import random\n",
    "import string\n",
    "\n"
   ]
  },
  {
   "cell_type": "code",
   "execution_count": 2,
   "id": "9dccef1f",
   "metadata": {},
   "outputs": [],
   "source": [
    "os.chdir('/Users/tomisin/Library/Docs/com~apple~CloudDocs/c.Documents/Mentorship_Program/SQL/CSV')"
   ]
  },
  {
   "cell_type": "code",
   "execution_count": 3,
   "id": "ffc2c2ce",
   "metadata": {},
   "outputs": [],
   "source": [
    "#Columns= customer_id, customer_name, email, phone"
   ]
  },
  {
   "cell_type": "code",
   "execution_count": 4,
   "id": "3f33cd53",
   "metadata": {},
   "outputs": [],
   "source": [
    "df = pd.DataFrame()"
   ]
  },
  {
   "cell_type": "markdown",
   "id": "e0c2c402",
   "metadata": {},
   "source": [
    "# Creating entries for customer_id"
   ]
  },
  {
   "cell_type": "code",
   "execution_count": 5,
   "id": "525438cb",
   "metadata": {},
   "outputs": [
    {
     "name": "stdout",
     "output_type": "stream",
     "text": [
      "[10000, 10001, 10002, 10003, 10004, 10005, 10006, 10007, 10008, 10009, 10010, 10011, 10012, 10013, 10014, 10015, 10016, 10017, 10018, 10019, 10020, 10021, 10022, 10023, 10024, 10025, 10026, 10027, 10028, 10029, 10030, 10031, 10032, 10033, 10034, 10035, 10036, 10037, 10038, 10039, 10040, 10041, 10042, 10043, 10044, 10045, 10046, 10047, 10048, 10049, 10050, 10051, 10052, 10053, 10054, 10055, 10056, 10057, 10058, 10059, 10060, 10061, 10062, 10063, 10064, 10065, 10066, 10067, 10068, 10069, 10070, 10071, 10072, 10073, 10074, 10075, 10076, 10077, 10078, 10079, 10080, 10081, 10082, 10083, 10084, 10085, 10086, 10087, 10088, 10089, 10090, 10091, 10092, 10093, 10094, 10095, 10096, 10097, 10098, 10099]\n"
     ]
    }
   ],
   "source": [
    "cust_id = []\n",
    "i=10000\n",
    "while i<10100:\n",
    "    cust_id.append(i)\n",
    "    i=i+1\n",
    "print(cust_id)"
   ]
  },
  {
   "cell_type": "code",
   "execution_count": 6,
   "id": "a20be22b",
   "metadata": {},
   "outputs": [],
   "source": [
    "df['customer_id'] = cust_id"
   ]
  },
  {
   "cell_type": "code",
   "execution_count": 7,
   "id": "b17273d5",
   "metadata": {},
   "outputs": [
    {
     "data": {
      "text/html": [
       "<div>\n",
       "<style scoped>\n",
       "    .dataframe tbody tr th:only-of-type {\n",
       "        vertical-align: middle;\n",
       "    }\n",
       "\n",
       "    .dataframe tbody tr th {\n",
       "        vertical-align: top;\n",
       "    }\n",
       "\n",
       "    .dataframe thead th {\n",
       "        text-align: right;\n",
       "    }\n",
       "</style>\n",
       "<table border=\"1\" class=\"dataframe\">\n",
       "  <thead>\n",
       "    <tr style=\"text-align: right;\">\n",
       "      <th></th>\n",
       "      <th>customer_id</th>\n",
       "    </tr>\n",
       "  </thead>\n",
       "  <tbody>\n",
       "    <tr>\n",
       "      <th>0</th>\n",
       "      <td>10000</td>\n",
       "    </tr>\n",
       "    <tr>\n",
       "      <th>1</th>\n",
       "      <td>10001</td>\n",
       "    </tr>\n",
       "    <tr>\n",
       "      <th>2</th>\n",
       "      <td>10002</td>\n",
       "    </tr>\n",
       "    <tr>\n",
       "      <th>3</th>\n",
       "      <td>10003</td>\n",
       "    </tr>\n",
       "    <tr>\n",
       "      <th>4</th>\n",
       "      <td>10004</td>\n",
       "    </tr>\n",
       "    <tr>\n",
       "      <th>...</th>\n",
       "      <td>...</td>\n",
       "    </tr>\n",
       "    <tr>\n",
       "      <th>95</th>\n",
       "      <td>10095</td>\n",
       "    </tr>\n",
       "    <tr>\n",
       "      <th>96</th>\n",
       "      <td>10096</td>\n",
       "    </tr>\n",
       "    <tr>\n",
       "      <th>97</th>\n",
       "      <td>10097</td>\n",
       "    </tr>\n",
       "    <tr>\n",
       "      <th>98</th>\n",
       "      <td>10098</td>\n",
       "    </tr>\n",
       "    <tr>\n",
       "      <th>99</th>\n",
       "      <td>10099</td>\n",
       "    </tr>\n",
       "  </tbody>\n",
       "</table>\n",
       "<p>100 rows × 1 columns</p>\n",
       "</div>"
      ],
      "text/plain": [
       "    customer_id\n",
       "0         10000\n",
       "1         10001\n",
       "2         10002\n",
       "3         10003\n",
       "4         10004\n",
       "..          ...\n",
       "95        10095\n",
       "96        10096\n",
       "97        10097\n",
       "98        10098\n",
       "99        10099\n",
       "\n",
       "[100 rows x 1 columns]"
      ]
     },
     "execution_count": 7,
     "metadata": {},
     "output_type": "execute_result"
    }
   ],
   "source": [
    "df"
   ]
  },
  {
   "cell_type": "markdown",
   "id": "28a85dd8",
   "metadata": {},
   "source": [
    "# Creating entries for customer_name"
   ]
  },
  {
   "cell_type": "code",
   "execution_count": 8,
   "id": "2805d280",
   "metadata": {},
   "outputs": [
    {
     "name": "stdout",
     "output_type": "stream",
     "text": [
      "Requirement already satisfied: names in /Users/tomisin/opt/anaconda3/lib/python3.9/site-packages (0.3.0)\n",
      "Note: you may need to restart the kernel to use updated packages.\n"
     ]
    }
   ],
   "source": [
    "pip install names"
   ]
  },
  {
   "cell_type": "code",
   "execution_count": 9,
   "id": "b26678b8",
   "metadata": {
    "scrolled": true
   },
   "outputs": [],
   "source": [
    "import names \n",
    "first_name = []\n",
    "last_name = []\n",
    "\n",
    "for i in range(0,100):\n",
    "    first_name.append(names.get_first_name())\n",
    "    last_name.append(names.get_last_name())"
   ]
  },
  {
   "cell_type": "code",
   "execution_count": 10,
   "id": "5901825e",
   "metadata": {},
   "outputs": [],
   "source": [
    "df['first_name']= first_name\n",
    "df['last_name']= last_name"
   ]
  },
  {
   "cell_type": "code",
   "execution_count": 11,
   "id": "90c4c65e",
   "metadata": {},
   "outputs": [
    {
     "name": "stdout",
     "output_type": "stream",
     "text": [
      "<class 'pandas.core.frame.DataFrame'>\n",
      "RangeIndex: 100 entries, 0 to 99\n",
      "Data columns (total 3 columns):\n",
      " #   Column       Non-Null Count  Dtype \n",
      "---  ------       --------------  ----- \n",
      " 0   customer_id  100 non-null    int64 \n",
      " 1   first_name   100 non-null    object\n",
      " 2   last_name    100 non-null    object\n",
      "dtypes: int64(1), object(2)\n",
      "memory usage: 2.5+ KB\n"
     ]
    }
   ],
   "source": [
    "df.info()"
   ]
  },
  {
   "cell_type": "code",
   "execution_count": 12,
   "id": "d67546fa",
   "metadata": {},
   "outputs": [
    {
     "data": {
      "text/html": [
       "<div>\n",
       "<style scoped>\n",
       "    .dataframe tbody tr th:only-of-type {\n",
       "        vertical-align: middle;\n",
       "    }\n",
       "\n",
       "    .dataframe tbody tr th {\n",
       "        vertical-align: top;\n",
       "    }\n",
       "\n",
       "    .dataframe thead th {\n",
       "        text-align: right;\n",
       "    }\n",
       "</style>\n",
       "<table border=\"1\" class=\"dataframe\">\n",
       "  <thead>\n",
       "    <tr style=\"text-align: right;\">\n",
       "      <th></th>\n",
       "      <th>customer_id</th>\n",
       "      <th>first_name</th>\n",
       "      <th>last_name</th>\n",
       "    </tr>\n",
       "  </thead>\n",
       "  <tbody>\n",
       "    <tr>\n",
       "      <th>0</th>\n",
       "      <td>10000</td>\n",
       "      <td>Esther</td>\n",
       "      <td>Ballard</td>\n",
       "    </tr>\n",
       "    <tr>\n",
       "      <th>1</th>\n",
       "      <td>10001</td>\n",
       "      <td>Carlton</td>\n",
       "      <td>Schaefer</td>\n",
       "    </tr>\n",
       "    <tr>\n",
       "      <th>2</th>\n",
       "      <td>10002</td>\n",
       "      <td>Kelley</td>\n",
       "      <td>Hubbard</td>\n",
       "    </tr>\n",
       "    <tr>\n",
       "      <th>3</th>\n",
       "      <td>10003</td>\n",
       "      <td>Dorothy</td>\n",
       "      <td>Groves</td>\n",
       "    </tr>\n",
       "    <tr>\n",
       "      <th>4</th>\n",
       "      <td>10004</td>\n",
       "      <td>Yolanda</td>\n",
       "      <td>Combs</td>\n",
       "    </tr>\n",
       "    <tr>\n",
       "      <th>...</th>\n",
       "      <td>...</td>\n",
       "      <td>...</td>\n",
       "      <td>...</td>\n",
       "    </tr>\n",
       "    <tr>\n",
       "      <th>95</th>\n",
       "      <td>10095</td>\n",
       "      <td>Nancy</td>\n",
       "      <td>Dunkan</td>\n",
       "    </tr>\n",
       "    <tr>\n",
       "      <th>96</th>\n",
       "      <td>10096</td>\n",
       "      <td>Michael</td>\n",
       "      <td>Kannel</td>\n",
       "    </tr>\n",
       "    <tr>\n",
       "      <th>97</th>\n",
       "      <td>10097</td>\n",
       "      <td>Margaret</td>\n",
       "      <td>Nelson</td>\n",
       "    </tr>\n",
       "    <tr>\n",
       "      <th>98</th>\n",
       "      <td>10098</td>\n",
       "      <td>Helen</td>\n",
       "      <td>Barrios</td>\n",
       "    </tr>\n",
       "    <tr>\n",
       "      <th>99</th>\n",
       "      <td>10099</td>\n",
       "      <td>Sharlene</td>\n",
       "      <td>Butter</td>\n",
       "    </tr>\n",
       "  </tbody>\n",
       "</table>\n",
       "<p>100 rows × 3 columns</p>\n",
       "</div>"
      ],
      "text/plain": [
       "    customer_id first_name last_name\n",
       "0         10000     Esther   Ballard\n",
       "1         10001    Carlton  Schaefer\n",
       "2         10002     Kelley   Hubbard\n",
       "3         10003    Dorothy    Groves\n",
       "4         10004    Yolanda     Combs\n",
       "..          ...        ...       ...\n",
       "95        10095      Nancy    Dunkan\n",
       "96        10096    Michael    Kannel\n",
       "97        10097   Margaret    Nelson\n",
       "98        10098      Helen   Barrios\n",
       "99        10099   Sharlene    Butter\n",
       "\n",
       "[100 rows x 3 columns]"
      ]
     },
     "execution_count": 12,
     "metadata": {},
     "output_type": "execute_result"
    }
   ],
   "source": [
    "df"
   ]
  },
  {
   "cell_type": "markdown",
   "id": "c1afe8b4",
   "metadata": {},
   "source": [
    "# Creating entries for email"
   ]
  },
  {
   "cell_type": "code",
   "execution_count": 13,
   "id": "bdb878c4",
   "metadata": {
    "scrolled": true
   },
   "outputs": [],
   "source": [
    "cust_email = []\n",
    "\n",
    "for i in range(len(df)):\n",
    "    a = df.loc[i, \"first_name\"]+df.loc[i, \"last_name\"]+'@gmail.com'\n",
    "    cust_email.append(a)\n",
    " "
   ]
  },
  {
   "cell_type": "code",
   "execution_count": 14,
   "id": "8a2e7636",
   "metadata": {},
   "outputs": [],
   "source": [
    "df['email']=cust_email"
   ]
  },
  {
   "cell_type": "code",
   "execution_count": 15,
   "id": "c4959fb4",
   "metadata": {},
   "outputs": [
    {
     "data": {
      "text/html": [
       "<div>\n",
       "<style scoped>\n",
       "    .dataframe tbody tr th:only-of-type {\n",
       "        vertical-align: middle;\n",
       "    }\n",
       "\n",
       "    .dataframe tbody tr th {\n",
       "        vertical-align: top;\n",
       "    }\n",
       "\n",
       "    .dataframe thead th {\n",
       "        text-align: right;\n",
       "    }\n",
       "</style>\n",
       "<table border=\"1\" class=\"dataframe\">\n",
       "  <thead>\n",
       "    <tr style=\"text-align: right;\">\n",
       "      <th></th>\n",
       "      <th>customer_id</th>\n",
       "      <th>first_name</th>\n",
       "      <th>last_name</th>\n",
       "      <th>email</th>\n",
       "    </tr>\n",
       "  </thead>\n",
       "  <tbody>\n",
       "    <tr>\n",
       "      <th>0</th>\n",
       "      <td>10000</td>\n",
       "      <td>Esther</td>\n",
       "      <td>Ballard</td>\n",
       "      <td>EstherBallard@gmail.com</td>\n",
       "    </tr>\n",
       "    <tr>\n",
       "      <th>1</th>\n",
       "      <td>10001</td>\n",
       "      <td>Carlton</td>\n",
       "      <td>Schaefer</td>\n",
       "      <td>CarltonSchaefer@gmail.com</td>\n",
       "    </tr>\n",
       "    <tr>\n",
       "      <th>2</th>\n",
       "      <td>10002</td>\n",
       "      <td>Kelley</td>\n",
       "      <td>Hubbard</td>\n",
       "      <td>KelleyHubbard@gmail.com</td>\n",
       "    </tr>\n",
       "    <tr>\n",
       "      <th>3</th>\n",
       "      <td>10003</td>\n",
       "      <td>Dorothy</td>\n",
       "      <td>Groves</td>\n",
       "      <td>DorothyGroves@gmail.com</td>\n",
       "    </tr>\n",
       "    <tr>\n",
       "      <th>4</th>\n",
       "      <td>10004</td>\n",
       "      <td>Yolanda</td>\n",
       "      <td>Combs</td>\n",
       "      <td>YolandaCombs@gmail.com</td>\n",
       "    </tr>\n",
       "    <tr>\n",
       "      <th>...</th>\n",
       "      <td>...</td>\n",
       "      <td>...</td>\n",
       "      <td>...</td>\n",
       "      <td>...</td>\n",
       "    </tr>\n",
       "    <tr>\n",
       "      <th>95</th>\n",
       "      <td>10095</td>\n",
       "      <td>Nancy</td>\n",
       "      <td>Dunkan</td>\n",
       "      <td>NancyDunkan@gmail.com</td>\n",
       "    </tr>\n",
       "    <tr>\n",
       "      <th>96</th>\n",
       "      <td>10096</td>\n",
       "      <td>Michael</td>\n",
       "      <td>Kannel</td>\n",
       "      <td>MichaelKannel@gmail.com</td>\n",
       "    </tr>\n",
       "    <tr>\n",
       "      <th>97</th>\n",
       "      <td>10097</td>\n",
       "      <td>Margaret</td>\n",
       "      <td>Nelson</td>\n",
       "      <td>MargaretNelson@gmail.com</td>\n",
       "    </tr>\n",
       "    <tr>\n",
       "      <th>98</th>\n",
       "      <td>10098</td>\n",
       "      <td>Helen</td>\n",
       "      <td>Barrios</td>\n",
       "      <td>HelenBarrios@gmail.com</td>\n",
       "    </tr>\n",
       "    <tr>\n",
       "      <th>99</th>\n",
       "      <td>10099</td>\n",
       "      <td>Sharlene</td>\n",
       "      <td>Butter</td>\n",
       "      <td>SharleneButter@gmail.com</td>\n",
       "    </tr>\n",
       "  </tbody>\n",
       "</table>\n",
       "<p>100 rows × 4 columns</p>\n",
       "</div>"
      ],
      "text/plain": [
       "    customer_id first_name last_name                      email\n",
       "0         10000     Esther   Ballard    EstherBallard@gmail.com\n",
       "1         10001    Carlton  Schaefer  CarltonSchaefer@gmail.com\n",
       "2         10002     Kelley   Hubbard    KelleyHubbard@gmail.com\n",
       "3         10003    Dorothy    Groves    DorothyGroves@gmail.com\n",
       "4         10004    Yolanda     Combs     YolandaCombs@gmail.com\n",
       "..          ...        ...       ...                        ...\n",
       "95        10095      Nancy    Dunkan      NancyDunkan@gmail.com\n",
       "96        10096    Michael    Kannel    MichaelKannel@gmail.com\n",
       "97        10097   Margaret    Nelson   MargaretNelson@gmail.com\n",
       "98        10098      Helen   Barrios     HelenBarrios@gmail.com\n",
       "99        10099   Sharlene    Butter   SharleneButter@gmail.com\n",
       "\n",
       "[100 rows x 4 columns]"
      ]
     },
     "execution_count": 15,
     "metadata": {},
     "output_type": "execute_result"
    }
   ],
   "source": [
    "df"
   ]
  },
  {
   "cell_type": "markdown",
   "id": "3a070e82",
   "metadata": {},
   "source": [
    "# Creating entries for phone number"
   ]
  },
  {
   "cell_type": "code",
   "execution_count": 16,
   "id": "972fdb3d",
   "metadata": {},
   "outputs": [
    {
     "data": {
      "text/plain": [
       "74228048809"
      ]
     },
     "execution_count": 16,
     "metadata": {},
     "output_type": "execute_result"
    }
   ],
   "source": [
    "cust_no = []\n",
    "phone_no =random.randint(10000000000,90000000000)\n",
    "phone_no"
   ]
  },
  {
   "cell_type": "code",
   "execution_count": 17,
   "id": "bd7f3671",
   "metadata": {},
   "outputs": [],
   "source": [
    "import random\n",
    "\n",
    "\n",
    "def random_number():\n",
    "    number = list(\n",
    "        str(random.randint(11111111111, 99999999999))\n",
    "    )  # 11 random digits to str\n",
    "    number[0] = '0'  # start with 0\n",
    "    number[1] = '1'  # second number must be 1\n",
    "    number[2] = str(random.choice([2, 3, 5]))  # third number can be 2, 3, or 5\n",
    "\n",
    "    return ''.join(number)\n"
   ]
  },
  {
   "cell_type": "code",
   "execution_count": 18,
   "id": "a045105a",
   "metadata": {},
   "outputs": [],
   "source": [
    "cust_no = []\n",
    "\n",
    "for i in range(0, 100):\n",
    "    a = random_number()\n",
    "    cust_no.append(a)"
   ]
  },
  {
   "cell_type": "code",
   "execution_count": 19,
   "id": "54b402ea",
   "metadata": {},
   "outputs": [],
   "source": [
    "df['phone_number']= cust_no"
   ]
  },
  {
   "cell_type": "code",
   "execution_count": 20,
   "id": "def7bb57",
   "metadata": {},
   "outputs": [
    {
     "name": "stdout",
     "output_type": "stream",
     "text": [
      "<class 'pandas.core.frame.DataFrame'>\n",
      "RangeIndex: 100 entries, 0 to 99\n",
      "Data columns (total 5 columns):\n",
      " #   Column        Non-Null Count  Dtype \n",
      "---  ------        --------------  ----- \n",
      " 0   customer_id   100 non-null    int64 \n",
      " 1   first_name    100 non-null    object\n",
      " 2   last_name     100 non-null    object\n",
      " 3   email         100 non-null    object\n",
      " 4   phone_number  100 non-null    object\n",
      "dtypes: int64(1), object(4)\n",
      "memory usage: 4.0+ KB\n"
     ]
    }
   ],
   "source": [
    "df.info()"
   ]
  },
  {
   "cell_type": "code",
   "execution_count": 21,
   "id": "fff48720",
   "metadata": {
    "scrolled": true
   },
   "outputs": [
    {
     "data": {
      "text/html": [
       "<div>\n",
       "<style scoped>\n",
       "    .dataframe tbody tr th:only-of-type {\n",
       "        vertical-align: middle;\n",
       "    }\n",
       "\n",
       "    .dataframe tbody tr th {\n",
       "        vertical-align: top;\n",
       "    }\n",
       "\n",
       "    .dataframe thead th {\n",
       "        text-align: right;\n",
       "    }\n",
       "</style>\n",
       "<table border=\"1\" class=\"dataframe\">\n",
       "  <thead>\n",
       "    <tr style=\"text-align: right;\">\n",
       "      <th></th>\n",
       "      <th>customer_id</th>\n",
       "      <th>first_name</th>\n",
       "      <th>last_name</th>\n",
       "      <th>email</th>\n",
       "      <th>phone_number</th>\n",
       "    </tr>\n",
       "  </thead>\n",
       "  <tbody>\n",
       "    <tr>\n",
       "      <th>0</th>\n",
       "      <td>10000</td>\n",
       "      <td>Esther</td>\n",
       "      <td>Ballard</td>\n",
       "      <td>EstherBallard@gmail.com</td>\n",
       "      <td>01387806160</td>\n",
       "    </tr>\n",
       "    <tr>\n",
       "      <th>1</th>\n",
       "      <td>10001</td>\n",
       "      <td>Carlton</td>\n",
       "      <td>Schaefer</td>\n",
       "      <td>CarltonSchaefer@gmail.com</td>\n",
       "      <td>01520724648</td>\n",
       "    </tr>\n",
       "    <tr>\n",
       "      <th>2</th>\n",
       "      <td>10002</td>\n",
       "      <td>Kelley</td>\n",
       "      <td>Hubbard</td>\n",
       "      <td>KelleyHubbard@gmail.com</td>\n",
       "      <td>01339466781</td>\n",
       "    </tr>\n",
       "    <tr>\n",
       "      <th>3</th>\n",
       "      <td>10003</td>\n",
       "      <td>Dorothy</td>\n",
       "      <td>Groves</td>\n",
       "      <td>DorothyGroves@gmail.com</td>\n",
       "      <td>01235518963</td>\n",
       "    </tr>\n",
       "    <tr>\n",
       "      <th>4</th>\n",
       "      <td>10004</td>\n",
       "      <td>Yolanda</td>\n",
       "      <td>Combs</td>\n",
       "      <td>YolandaCombs@gmail.com</td>\n",
       "      <td>01345078935</td>\n",
       "    </tr>\n",
       "    <tr>\n",
       "      <th>...</th>\n",
       "      <td>...</td>\n",
       "      <td>...</td>\n",
       "      <td>...</td>\n",
       "      <td>...</td>\n",
       "      <td>...</td>\n",
       "    </tr>\n",
       "    <tr>\n",
       "      <th>95</th>\n",
       "      <td>10095</td>\n",
       "      <td>Nancy</td>\n",
       "      <td>Dunkan</td>\n",
       "      <td>NancyDunkan@gmail.com</td>\n",
       "      <td>01256460332</td>\n",
       "    </tr>\n",
       "    <tr>\n",
       "      <th>96</th>\n",
       "      <td>10096</td>\n",
       "      <td>Michael</td>\n",
       "      <td>Kannel</td>\n",
       "      <td>MichaelKannel@gmail.com</td>\n",
       "      <td>01264912444</td>\n",
       "    </tr>\n",
       "    <tr>\n",
       "      <th>97</th>\n",
       "      <td>10097</td>\n",
       "      <td>Margaret</td>\n",
       "      <td>Nelson</td>\n",
       "      <td>MargaretNelson@gmail.com</td>\n",
       "      <td>01268356351</td>\n",
       "    </tr>\n",
       "    <tr>\n",
       "      <th>98</th>\n",
       "      <td>10098</td>\n",
       "      <td>Helen</td>\n",
       "      <td>Barrios</td>\n",
       "      <td>HelenBarrios@gmail.com</td>\n",
       "      <td>01360435336</td>\n",
       "    </tr>\n",
       "    <tr>\n",
       "      <th>99</th>\n",
       "      <td>10099</td>\n",
       "      <td>Sharlene</td>\n",
       "      <td>Butter</td>\n",
       "      <td>SharleneButter@gmail.com</td>\n",
       "      <td>01298757716</td>\n",
       "    </tr>\n",
       "  </tbody>\n",
       "</table>\n",
       "<p>100 rows × 5 columns</p>\n",
       "</div>"
      ],
      "text/plain": [
       "    customer_id first_name last_name                      email phone_number\n",
       "0         10000     Esther   Ballard    EstherBallard@gmail.com  01387806160\n",
       "1         10001    Carlton  Schaefer  CarltonSchaefer@gmail.com  01520724648\n",
       "2         10002     Kelley   Hubbard    KelleyHubbard@gmail.com  01339466781\n",
       "3         10003    Dorothy    Groves    DorothyGroves@gmail.com  01235518963\n",
       "4         10004    Yolanda     Combs     YolandaCombs@gmail.com  01345078935\n",
       "..          ...        ...       ...                        ...          ...\n",
       "95        10095      Nancy    Dunkan      NancyDunkan@gmail.com  01256460332\n",
       "96        10096    Michael    Kannel    MichaelKannel@gmail.com  01264912444\n",
       "97        10097   Margaret    Nelson   MargaretNelson@gmail.com  01268356351\n",
       "98        10098      Helen   Barrios     HelenBarrios@gmail.com  01360435336\n",
       "99        10099   Sharlene    Butter   SharleneButter@gmail.com  01298757716\n",
       "\n",
       "[100 rows x 5 columns]"
      ]
     },
     "execution_count": 21,
     "metadata": {},
     "output_type": "execute_result"
    }
   ],
   "source": [
    "df"
   ]
  },
  {
   "cell_type": "code",
   "execution_count": 22,
   "id": "78ea775f",
   "metadata": {},
   "outputs": [],
   "source": [
    "name = []\n",
    "\n",
    "for i in range(len(df)):\n",
    "    names = df.loc[i, \"first_name\"] + ' ' + df.loc[i, \"last_name\"]\n",
    "    name.append(names)"
   ]
  },
  {
   "cell_type": "code",
   "execution_count": 23,
   "id": "d652a7f3",
   "metadata": {},
   "outputs": [],
   "source": [
    "df.drop(['first_name', 'last_name'], axis=1, inplace=True)"
   ]
  },
  {
   "cell_type": "code",
   "execution_count": 24,
   "id": "5f21c24c",
   "metadata": {},
   "outputs": [],
   "source": [
    "df['name'] = name"
   ]
  },
  {
   "cell_type": "code",
   "execution_count": 25,
   "id": "c82cb05a",
   "metadata": {},
   "outputs": [],
   "source": [
    "df = df[list(('customer_id', 'name', 'email', 'phone_number'))]"
   ]
  },
  {
   "cell_type": "code",
   "execution_count": 26,
   "id": "d2535536",
   "metadata": {},
   "outputs": [],
   "source": [
    "df.to_csv('Customer_table.csv')"
   ]
  },
  {
   "cell_type": "markdown",
   "id": "4462a539",
   "metadata": {},
   "source": [
    "# Create POSTGRESQL database connection "
   ]
  },
  {
   "cell_type": "code",
   "execution_count": 48,
   "id": "9c95acf3",
   "metadata": {
    "scrolled": true
   },
   "outputs": [
    {
     "name": "stdout",
     "output_type": "stream",
     "text": [
      "<connection object at 0x7f87c371feb0; dsn: 'user=postgres password=xxx dbname=exercise1 host=localhost port=5433', closed: 0>\n"
     ]
    }
   ],
   "source": [
    "import psycopg2\n",
    "\n",
    "conn = psycopg2.connect(database = 'exercise1',\n",
    "                        host=\"localhost\",\n",
    "                        user=\"postgres\",\n",
    "                        password='postgres',\n",
    "                        port=\"5433\")\n",
    "conn.autocommit = True\n",
    "print(conn)"
   ]
  },
  {
   "cell_type": "code",
   "execution_count": 49,
   "id": "9465f146",
   "metadata": {},
   "outputs": [],
   "source": [
    "cur = conn.cursor()"
   ]
  },
  {
   "cell_type": "code",
   "execution_count": 41,
   "id": "301ba300",
   "metadata": {},
   "outputs": [],
   "source": [
    "query = 'create database Exercise1;'"
   ]
  },
  {
   "cell_type": "code",
   "execution_count": 42,
   "id": "5a331fcb",
   "metadata": {},
   "outputs": [
    {
     "ename": "DuplicateDatabase",
     "evalue": "database \"exercise1\" already exists\n",
     "output_type": "error",
     "traceback": [
      "\u001b[0;31m---------------------------------------------------------------------------\u001b[0m",
      "\u001b[0;31mDuplicateDatabase\u001b[0m                         Traceback (most recent call last)",
      "\u001b[0;32m/var/folders/dd/qv07v6216p7bl9jcwjjx54qr0000gn/T/ipykernel_98999/4139246491.py\u001b[0m in \u001b[0;36m<module>\u001b[0;34m\u001b[0m\n\u001b[0;32m----> 1\u001b[0;31m \u001b[0mcur\u001b[0m\u001b[0;34m.\u001b[0m\u001b[0mexecute\u001b[0m\u001b[0;34m(\u001b[0m\u001b[0mquery\u001b[0m\u001b[0;34m)\u001b[0m\u001b[0;34m\u001b[0m\u001b[0;34m\u001b[0m\u001b[0m\n\u001b[0m",
      "\u001b[0;31mDuplicateDatabase\u001b[0m: database \"exercise1\" already exists\n"
     ]
    }
   ],
   "source": [
    "cur.execute(query)"
   ]
  },
  {
   "cell_type": "markdown",
   "id": "9a07762d",
   "metadata": {},
   "source": [
    "# Export 'customer' table into SQL"
   ]
  },
  {
   "cell_type": "code",
   "execution_count": 50,
   "id": "3e92c204",
   "metadata": {},
   "outputs": [],
   "source": [
    "df = pd.read_csv('/Users/tomisin/Library/docs/com~apple~CloudDocs/c.Documents/Mentorship_Program/SQL/Exercise1/CSV/Customer_table.csv', sep=';')"
   ]
  },
  {
   "cell_type": "code",
   "execution_count": 51,
   "id": "cdf906e9",
   "metadata": {},
   "outputs": [
    {
     "data": {
      "text/html": [
       "<div>\n",
       "<style scoped>\n",
       "    .dataframe tbody tr th:only-of-type {\n",
       "        vertical-align: middle;\n",
       "    }\n",
       "\n",
       "    .dataframe tbody tr th {\n",
       "        vertical-align: top;\n",
       "    }\n",
       "\n",
       "    .dataframe thead th {\n",
       "        text-align: right;\n",
       "    }\n",
       "</style>\n",
       "<table border=\"1\" class=\"dataframe\">\n",
       "  <thead>\n",
       "    <tr style=\"text-align: right;\">\n",
       "      <th></th>\n",
       "      <th>customer_id</th>\n",
       "      <th>name</th>\n",
       "      <th>email</th>\n",
       "      <th>phone_number</th>\n",
       "    </tr>\n",
       "  </thead>\n",
       "  <tbody>\n",
       "    <tr>\n",
       "      <th>0</th>\n",
       "      <td>10000</td>\n",
       "      <td>Sherri Seabaugh</td>\n",
       "      <td>SherriSeabaugh@gmail.com</td>\n",
       "      <td>1219221225</td>\n",
       "    </tr>\n",
       "    <tr>\n",
       "      <th>1</th>\n",
       "      <td>10001</td>\n",
       "      <td>Penny Craig</td>\n",
       "      <td>PennyCraig@gmail.com</td>\n",
       "      <td>1281215034</td>\n",
       "    </tr>\n",
       "    <tr>\n",
       "      <th>2</th>\n",
       "      <td>10002</td>\n",
       "      <td>Patricia South</td>\n",
       "      <td>PatriciaSouth@gmail.com</td>\n",
       "      <td>1384225155</td>\n",
       "    </tr>\n",
       "    <tr>\n",
       "      <th>3</th>\n",
       "      <td>10003</td>\n",
       "      <td>Jessie Cook</td>\n",
       "      <td>JessieCook@gmail.com</td>\n",
       "      <td>1293912251</td>\n",
       "    </tr>\n",
       "    <tr>\n",
       "      <th>4</th>\n",
       "      <td>10004</td>\n",
       "      <td>Maria Spivey</td>\n",
       "      <td>MariaSpivey@gmail.com</td>\n",
       "      <td>1350891156</td>\n",
       "    </tr>\n",
       "  </tbody>\n",
       "</table>\n",
       "</div>"
      ],
      "text/plain": [
       "   customer_id             name                     email  phone_number\n",
       "0        10000  Sherri Seabaugh  SherriSeabaugh@gmail.com    1219221225\n",
       "1        10001      Penny Craig      PennyCraig@gmail.com    1281215034\n",
       "2        10002   Patricia South   PatriciaSouth@gmail.com    1384225155\n",
       "3        10003      Jessie Cook      JessieCook@gmail.com    1293912251\n",
       "4        10004     Maria Spivey     MariaSpivey@gmail.com    1350891156"
      ]
     },
     "execution_count": 51,
     "metadata": {},
     "output_type": "execute_result"
    }
   ],
   "source": [
    "df.head()"
   ]
  },
  {
   "cell_type": "code",
   "execution_count": 52,
   "id": "b1118a56",
   "metadata": {},
   "outputs": [],
   "source": [
    "query= 'CREATE TABLE customer (customer_id INT PRIMARY KEY,customer_name VARCHAR (255) not null,email VARCHAR (255) not null,phone VARCHAR (20) not null)'"
   ]
  },
  {
   "cell_type": "code",
   "execution_count": 53,
   "id": "06b7e4b9",
   "metadata": {},
   "outputs": [],
   "source": [
    "cur.execute(query)"
   ]
  },
  {
   "cell_type": "code",
   "execution_count": null,
   "id": "c78955b3",
   "metadata": {},
   "outputs": [],
   "source": [
    "pip install python-dotenv"
   ]
  },
  {
   "cell_type": "code",
   "execution_count": null,
   "id": "b451e422",
   "metadata": {},
   "outputs": [],
   "source": [
    "from dotenv import load_dotenv"
   ]
  },
  {
   "cell_type": "code",
   "execution_count": 54,
   "id": "8a067f1a",
   "metadata": {},
   "outputs": [
    {
     "name": "stdout",
     "output_type": "stream",
     "text": [
      "(10000, 'Sherri Seabaugh', 'SherriSeabaugh@gmail.com', 1219221225)\n"
     ]
    }
   ],
   "source": [
    "rows = df.values\n",
    "counter = 0\n",
    "for row in rows:\n",
    "    row = tuple(row)\n",
    "    if counter==0:\n",
    "        print(row)\n",
    "    counter+=1"
   ]
  },
  {
   "cell_type": "code",
   "execution_count": 55,
   "id": "afeb2aba",
   "metadata": {},
   "outputs": [],
   "source": [
    "rows = df.values\n",
    "counter = 0\n",
    "for row in rows:\n",
    "    row = tuple(row)\n",
    "    query = f\"insert into customer values{row}\"\n",
    "    cur.execute(query)\n",
    "conn.commit()"
   ]
  },
  {
   "cell_type": "markdown",
   "id": "586046a1",
   "metadata": {},
   "source": [
    "# Export 'product' table into SQL"
   ]
  },
  {
   "cell_type": "code",
   "execution_count": 56,
   "id": "1e2d9313",
   "metadata": {},
   "outputs": [],
   "source": [
    "df1 = pd.read_csv('/Users/tomisin/Library/docs/com~apple~CloudDocs/c.Documents/Mentorship_Program/SQL/Exercise1/CSV/product_table.csv', sep=',')"
   ]
  },
  {
   "cell_type": "code",
   "execution_count": 57,
   "id": "7c384565",
   "metadata": {},
   "outputs": [
    {
     "data": {
      "text/html": [
       "<div>\n",
       "<style scoped>\n",
       "    .dataframe tbody tr th:only-of-type {\n",
       "        vertical-align: middle;\n",
       "    }\n",
       "\n",
       "    .dataframe tbody tr th {\n",
       "        vertical-align: top;\n",
       "    }\n",
       "\n",
       "    .dataframe thead th {\n",
       "        text-align: right;\n",
       "    }\n",
       "</style>\n",
       "<table border=\"1\" class=\"dataframe\">\n",
       "  <thead>\n",
       "    <tr style=\"text-align: right;\">\n",
       "      <th></th>\n",
       "      <th>product_id</th>\n",
       "      <th>product_name</th>\n",
       "      <th>description</th>\n",
       "      <th>product_category</th>\n",
       "      <th>unit_price</th>\n",
       "    </tr>\n",
       "  </thead>\n",
       "  <tbody>\n",
       "    <tr>\n",
       "      <th>0</th>\n",
       "      <td>2001</td>\n",
       "      <td>Man shirt</td>\n",
       "      <td>stripes</td>\n",
       "      <td>Summer wear</td>\n",
       "      <td>35.00</td>\n",
       "    </tr>\n",
       "    <tr>\n",
       "      <th>1</th>\n",
       "      <td>2002</td>\n",
       "      <td>Woman Skirt</td>\n",
       "      <td>pencil type</td>\n",
       "      <td>Summer wear</td>\n",
       "      <td>45.99</td>\n",
       "    </tr>\n",
       "    <tr>\n",
       "      <th>2</th>\n",
       "      <td>2003</td>\n",
       "      <td>Wrist watch</td>\n",
       "      <td>chain</td>\n",
       "      <td>Assessories</td>\n",
       "      <td>120.00</td>\n",
       "    </tr>\n",
       "    <tr>\n",
       "      <th>3</th>\n",
       "      <td>2004</td>\n",
       "      <td>Winter jacket</td>\n",
       "      <td>fur</td>\n",
       "      <td>Winter wear</td>\n",
       "      <td>50.30</td>\n",
       "    </tr>\n",
       "    <tr>\n",
       "      <th>4</th>\n",
       "      <td>2005</td>\n",
       "      <td>sneaker</td>\n",
       "      <td>sporty</td>\n",
       "      <td>Foot wear</td>\n",
       "      <td>70.00</td>\n",
       "    </tr>\n",
       "    <tr>\n",
       "      <th>5</th>\n",
       "      <td>2006</td>\n",
       "      <td>Boots</td>\n",
       "      <td>leather</td>\n",
       "      <td>Foot wear</td>\n",
       "      <td>150.00</td>\n",
       "    </tr>\n",
       "    <tr>\n",
       "      <th>6</th>\n",
       "      <td>2007</td>\n",
       "      <td>Face caps</td>\n",
       "      <td>cotton</td>\n",
       "      <td>Caps</td>\n",
       "      <td>70.00</td>\n",
       "    </tr>\n",
       "    <tr>\n",
       "      <th>7</th>\n",
       "      <td>2008</td>\n",
       "      <td>Hats</td>\n",
       "      <td>Cotten synthetic</td>\n",
       "      <td>Caps</td>\n",
       "      <td>50.00</td>\n",
       "    </tr>\n",
       "    <tr>\n",
       "      <th>8</th>\n",
       "      <td>2009</td>\n",
       "      <td>Singlets</td>\n",
       "      <td>spandex</td>\n",
       "      <td>Underwear</td>\n",
       "      <td>10.00</td>\n",
       "    </tr>\n",
       "    <tr>\n",
       "      <th>9</th>\n",
       "      <td>2010</td>\n",
       "      <td>Boxers</td>\n",
       "      <td>cotton</td>\n",
       "      <td>Underwear</td>\n",
       "      <td>8.00</td>\n",
       "    </tr>\n",
       "    <tr>\n",
       "      <th>10</th>\n",
       "      <td>2011</td>\n",
       "      <td>Men pants</td>\n",
       "      <td>polyster</td>\n",
       "      <td>Casual wear</td>\n",
       "      <td>38.99</td>\n",
       "    </tr>\n",
       "    <tr>\n",
       "      <th>11</th>\n",
       "      <td>2012</td>\n",
       "      <td>Glasses</td>\n",
       "      <td>rubber</td>\n",
       "      <td>Accessories</td>\n",
       "      <td>80.00</td>\n",
       "    </tr>\n",
       "    <tr>\n",
       "      <th>12</th>\n",
       "      <td>2013</td>\n",
       "      <td>G-string</td>\n",
       "      <td>satin</td>\n",
       "      <td>Underwear</td>\n",
       "      <td>27.50</td>\n",
       "    </tr>\n",
       "    <tr>\n",
       "      <th>13</th>\n",
       "      <td>2014</td>\n",
       "      <td>Bra</td>\n",
       "      <td>lace</td>\n",
       "      <td>Sports wear</td>\n",
       "      <td>30.00</td>\n",
       "    </tr>\n",
       "    <tr>\n",
       "      <th>14</th>\n",
       "      <td>2015</td>\n",
       "      <td>Women lingerie</td>\n",
       "      <td>spanet</td>\n",
       "      <td>Underwear</td>\n",
       "      <td>75.00</td>\n",
       "    </tr>\n",
       "    <tr>\n",
       "      <th>15</th>\n",
       "      <td>2016</td>\n",
       "      <td>Biker shorts</td>\n",
       "      <td>spandex</td>\n",
       "      <td>Sports wear</td>\n",
       "      <td>65.00</td>\n",
       "    </tr>\n",
       "    <tr>\n",
       "      <th>16</th>\n",
       "      <td>2017</td>\n",
       "      <td>Sweat pants</td>\n",
       "      <td>cotton fleece</td>\n",
       "      <td>Casual wear</td>\n",
       "      <td>59.00</td>\n",
       "    </tr>\n",
       "    <tr>\n",
       "      <th>17</th>\n",
       "      <td>2018</td>\n",
       "      <td>Pullover</td>\n",
       "      <td>wool</td>\n",
       "      <td>Casual wear</td>\n",
       "      <td>60.00</td>\n",
       "    </tr>\n",
       "    <tr>\n",
       "      <th>18</th>\n",
       "      <td>2019</td>\n",
       "      <td>Jeans trouser</td>\n",
       "      <td>strong cotten</td>\n",
       "      <td>Casual wear</td>\n",
       "      <td>115.00</td>\n",
       "    </tr>\n",
       "    <tr>\n",
       "      <th>19</th>\n",
       "      <td>2020</td>\n",
       "      <td>Travel bags</td>\n",
       "      <td>ballistic nylon</td>\n",
       "      <td>Luggage</td>\n",
       "      <td>350.00</td>\n",
       "    </tr>\n",
       "  </tbody>\n",
       "</table>\n",
       "</div>"
      ],
      "text/plain": [
       "    product_id     product_name       description product_category  unit_price\n",
       "0         2001        Man shirt           stripes      Summer wear       35.00\n",
       "1         2002      Woman Skirt       pencil type      Summer wear       45.99\n",
       "2         2003      Wrist watch             chain      Assessories      120.00\n",
       "3         2004    Winter jacket               fur      Winter wear       50.30\n",
       "4         2005          sneaker            sporty        Foot wear       70.00\n",
       "5         2006            Boots           leather        Foot wear      150.00\n",
       "6         2007        Face caps            cotton             Caps       70.00\n",
       "7         2008             Hats  Cotten synthetic             Caps       50.00\n",
       "8         2009         Singlets           spandex        Underwear       10.00\n",
       "9         2010           Boxers            cotton        Underwear        8.00\n",
       "10        2011        Men pants          polyster      Casual wear       38.99\n",
       "11        2012          Glasses            rubber      Accessories       80.00\n",
       "12        2013         G-string             satin        Underwear       27.50\n",
       "13        2014              Bra              lace      Sports wear       30.00\n",
       "14        2015   Women lingerie            spanet        Underwear       75.00\n",
       "15        2016     Biker shorts           spandex      Sports wear       65.00\n",
       "16        2017      Sweat pants     cotton fleece      Casual wear       59.00\n",
       "17        2018         Pullover              wool      Casual wear       60.00\n",
       "18        2019    Jeans trouser     strong cotten      Casual wear      115.00\n",
       "19        2020      Travel bags   ballistic nylon          Luggage      350.00"
      ]
     },
     "execution_count": 57,
     "metadata": {},
     "output_type": "execute_result"
    }
   ],
   "source": [
    "df1.head(20)"
   ]
  },
  {
   "cell_type": "code",
   "execution_count": 58,
   "id": "6215255a",
   "metadata": {},
   "outputs": [],
   "source": [
    "query1 = 'CREATE TABLE product (product_id INT PRIMARY KEY,product_name VARCHAR (255) not null,description TEXT,product_category VARCHAR (50) not null,unit_price DECIMAL (10,2) not null);'"
   ]
  },
  {
   "cell_type": "code",
   "execution_count": 59,
   "id": "3d187501",
   "metadata": {},
   "outputs": [],
   "source": [
    "cur.execute(query1)"
   ]
  },
  {
   "cell_type": "code",
   "execution_count": 60,
   "id": "beea0e70",
   "metadata": {},
   "outputs": [
    {
     "name": "stdout",
     "output_type": "stream",
     "text": [
      "(2001, 'Man shirt', 'stripes', 'Summer wear', 35.0)\n"
     ]
    }
   ],
   "source": [
    "rows = df1.values\n",
    "counter = 0\n",
    "for row in rows:\n",
    "    row = tuple(row)\n",
    "    if counter==0:\n",
    "        print(row)\n",
    "    counter+=1"
   ]
  },
  {
   "cell_type": "code",
   "execution_count": 61,
   "id": "0f334077",
   "metadata": {},
   "outputs": [],
   "source": [
    "rows = df1.values\n",
    "counter = 0\n",
    "for row in rows:\n",
    "    row = tuple(row)\n",
    "    query = f\"insert into product values{row}\"\n",
    "    cur.execute(query)\n",
    "conn.commit()"
   ]
  },
  {
   "cell_type": "markdown",
   "id": "d2bbe29f",
   "metadata": {},
   "source": [
    "# Export 'orders' table into SQL"
   ]
  },
  {
   "cell_type": "code",
   "execution_count": 62,
   "id": "c8b6e20e",
   "metadata": {},
   "outputs": [],
   "source": [
    "df2 = pd.read_csv('/Users/tomisin/Library/docs/com~apple~CloudDocs/c.Documents/Mentorship_Program/SQL/Exercise1/CSV/order_table.csv', sep=',')"
   ]
  },
  {
   "cell_type": "code",
   "execution_count": 63,
   "id": "1d50adb4",
   "metadata": {
    "scrolled": true
   },
   "outputs": [
    {
     "data": {
      "text/html": [
       "<div>\n",
       "<style scoped>\n",
       "    .dataframe tbody tr th:only-of-type {\n",
       "        vertical-align: middle;\n",
       "    }\n",
       "\n",
       "    .dataframe tbody tr th {\n",
       "        vertical-align: top;\n",
       "    }\n",
       "\n",
       "    .dataframe thead th {\n",
       "        text-align: right;\n",
       "    }\n",
       "</style>\n",
       "<table border=\"1\" class=\"dataframe\">\n",
       "  <thead>\n",
       "    <tr style=\"text-align: right;\">\n",
       "      <th></th>\n",
       "      <th>order_id</th>\n",
       "      <th>customer_id</th>\n",
       "      <th>order_date</th>\n",
       "      <th>product_id</th>\n",
       "      <th>quantity</th>\n",
       "      <th>delivery_status</th>\n",
       "    </tr>\n",
       "  </thead>\n",
       "  <tbody>\n",
       "    <tr>\n",
       "      <th>0</th>\n",
       "      <td>3001</td>\n",
       "      <td>10000</td>\n",
       "      <td>2004-01-01</td>\n",
       "      <td>2050</td>\n",
       "      <td>1</td>\n",
       "      <td>Shipped</td>\n",
       "    </tr>\n",
       "    <tr>\n",
       "      <th>1</th>\n",
       "      <td>3002</td>\n",
       "      <td>10001</td>\n",
       "      <td>2004-01-24</td>\n",
       "      <td>2034</td>\n",
       "      <td>10</td>\n",
       "      <td>Processing</td>\n",
       "    </tr>\n",
       "    <tr>\n",
       "      <th>2</th>\n",
       "      <td>3003</td>\n",
       "      <td>10002</td>\n",
       "      <td>2004-02-16</td>\n",
       "      <td>2041</td>\n",
       "      <td>14</td>\n",
       "      <td>Delivered</td>\n",
       "    </tr>\n",
       "    <tr>\n",
       "      <th>3</th>\n",
       "      <td>3004</td>\n",
       "      <td>10003</td>\n",
       "      <td>2004-03-10</td>\n",
       "      <td>2020</td>\n",
       "      <td>13</td>\n",
       "      <td>Shipped</td>\n",
       "    </tr>\n",
       "    <tr>\n",
       "      <th>4</th>\n",
       "      <td>3005</td>\n",
       "      <td>10004</td>\n",
       "      <td>2004-04-02</td>\n",
       "      <td>2005</td>\n",
       "      <td>19</td>\n",
       "      <td>Processing</td>\n",
       "    </tr>\n",
       "  </tbody>\n",
       "</table>\n",
       "</div>"
      ],
      "text/plain": [
       "   order_id  customer_id  order_date  product_id  quantity delivery_status\n",
       "0      3001        10000  2004-01-01        2050         1         Shipped\n",
       "1      3002        10001  2004-01-24        2034        10      Processing\n",
       "2      3003        10002  2004-02-16        2041        14       Delivered\n",
       "3      3004        10003  2004-03-10        2020        13         Shipped\n",
       "4      3005        10004  2004-04-02        2005        19      Processing"
      ]
     },
     "execution_count": 63,
     "metadata": {},
     "output_type": "execute_result"
    }
   ],
   "source": [
    "df2.head()"
   ]
  },
  {
   "cell_type": "code",
   "execution_count": 64,
   "id": "b3edb0b9",
   "metadata": {},
   "outputs": [],
   "source": [
    "query2 = 'CREATE TABLE orders (order_id INT PRIMARY KEY,customer_id INT,order_date DATE not null,product_id INT,quantity INT not null,delivery_status VARCHAR(20),FOREIGN KEY (customer_id) REFERENCES customer(customer_id),FOREIGN KEY (product_id) REFERENCES product(product_id));'"
   ]
  },
  {
   "cell_type": "code",
   "execution_count": 65,
   "id": "b61711bd",
   "metadata": {},
   "outputs": [],
   "source": [
    "cur.execute(query2)"
   ]
  },
  {
   "cell_type": "code",
   "execution_count": 66,
   "id": "5a3fb349",
   "metadata": {},
   "outputs": [
    {
     "name": "stdout",
     "output_type": "stream",
     "text": [
      "(3001, 10000, '2004-01-01', 2050, 1, 'Shipped')\n"
     ]
    }
   ],
   "source": [
    "rows = df2.values\n",
    "counter = 0\n",
    "for row in rows:\n",
    "    row = tuple(row)\n",
    "    if counter==0:\n",
    "        print(row)\n",
    "    counter+=1"
   ]
  },
  {
   "cell_type": "code",
   "execution_count": 67,
   "id": "55755df7",
   "metadata": {},
   "outputs": [],
   "source": [
    "rows = df2.values\n",
    "counter = 0\n",
    "for row in rows:\n",
    "    row = tuple(row)\n",
    "    query = f\"insert into orders values{row}\"\n",
    "    cur.execute(query)\n",
    "conn.commit()"
   ]
  },
  {
   "cell_type": "markdown",
   "id": "0264f4d9",
   "metadata": {},
   "source": [
    "# Export 'payment' table into SQL"
   ]
  },
  {
   "cell_type": "code",
   "execution_count": 68,
   "id": "5cbc3d0e",
   "metadata": {},
   "outputs": [],
   "source": [
    "df3 = pd.read_csv('/Users/tomisin/Library/docs/com~apple~CloudDocs/c.Documents/Mentorship_Program/SQL/Exercise1/CSV/payment_table.csv')"
   ]
  },
  {
   "cell_type": "code",
   "execution_count": 69,
   "id": "b90e86c1",
   "metadata": {},
   "outputs": [
    {
     "data": {
      "text/html": [
       "<div>\n",
       "<style scoped>\n",
       "    .dataframe tbody tr th:only-of-type {\n",
       "        vertical-align: middle;\n",
       "    }\n",
       "\n",
       "    .dataframe tbody tr th {\n",
       "        vertical-align: top;\n",
       "    }\n",
       "\n",
       "    .dataframe thead th {\n",
       "        text-align: right;\n",
       "    }\n",
       "</style>\n",
       "<table border=\"1\" class=\"dataframe\">\n",
       "  <thead>\n",
       "    <tr style=\"text-align: right;\">\n",
       "      <th></th>\n",
       "      <th>payment_id</th>\n",
       "      <th>order_id</th>\n",
       "      <th>payment_date</th>\n",
       "    </tr>\n",
       "  </thead>\n",
       "  <tbody>\n",
       "    <tr>\n",
       "      <th>0</th>\n",
       "      <td>4001</td>\n",
       "      <td>3001</td>\n",
       "      <td>2004-01-01</td>\n",
       "    </tr>\n",
       "    <tr>\n",
       "      <th>1</th>\n",
       "      <td>4002</td>\n",
       "      <td>3002</td>\n",
       "      <td>2004-01-24</td>\n",
       "    </tr>\n",
       "    <tr>\n",
       "      <th>2</th>\n",
       "      <td>4003</td>\n",
       "      <td>3003</td>\n",
       "      <td>2004-02-16</td>\n",
       "    </tr>\n",
       "    <tr>\n",
       "      <th>3</th>\n",
       "      <td>4004</td>\n",
       "      <td>3004</td>\n",
       "      <td>2004-03-10</td>\n",
       "    </tr>\n",
       "    <tr>\n",
       "      <th>4</th>\n",
       "      <td>4005</td>\n",
       "      <td>3005</td>\n",
       "      <td>2004-04-02</td>\n",
       "    </tr>\n",
       "  </tbody>\n",
       "</table>\n",
       "</div>"
      ],
      "text/plain": [
       "   payment_id  order_id payment_date\n",
       "0        4001      3001   2004-01-01\n",
       "1        4002      3002   2004-01-24\n",
       "2        4003      3003   2004-02-16\n",
       "3        4004      3004   2004-03-10\n",
       "4        4005      3005   2004-04-02"
      ]
     },
     "execution_count": 69,
     "metadata": {},
     "output_type": "execute_result"
    }
   ],
   "source": [
    "df3.head()"
   ]
  },
  {
   "cell_type": "code",
   "execution_count": null,
   "id": "db20afc7",
   "metadata": {},
   "outputs": [],
   "source": []
  },
  {
   "cell_type": "code",
   "execution_count": 70,
   "id": "391b7b9f",
   "metadata": {},
   "outputs": [],
   "source": [
    "query3= 'CREATE TABLE payment (payment_id INT PRIMARY KEY,order_id INT,payment_date DATE not null,FOREIGN KEY (order_id) REFERENCES orders (order_id));'"
   ]
  },
  {
   "cell_type": "code",
   "execution_count": 71,
   "id": "481af7e1",
   "metadata": {},
   "outputs": [],
   "source": [
    "cur.execute(query3)"
   ]
  },
  {
   "cell_type": "code",
   "execution_count": 72,
   "id": "599e258c",
   "metadata": {},
   "outputs": [
    {
     "name": "stdout",
     "output_type": "stream",
     "text": [
      "(4001, 3001, '2004-01-01')\n"
     ]
    }
   ],
   "source": [
    "rows = df3.values\n",
    "counter = 0\n",
    "for row in rows:\n",
    "    row = tuple(row)\n",
    "    if counter==0:\n",
    "        print(row)\n",
    "    counter+=1"
   ]
  },
  {
   "cell_type": "code",
   "execution_count": 73,
   "id": "0d9b0b39",
   "metadata": {},
   "outputs": [],
   "source": [
    "rows = df3.values\n",
    "counter = 0\n",
    "for row in rows:\n",
    "    row = tuple(row)\n",
    "    query = f\"insert into payment values{row}\"\n",
    "    cur.execute(query)\n",
    "conn.commit()"
   ]
  },
  {
   "cell_type": "markdown",
   "id": "50f337ef",
   "metadata": {},
   "source": [
    "# Export 'credit_card' table into SQL"
   ]
  },
  {
   "cell_type": "code",
   "execution_count": 74,
   "id": "88f18b42",
   "metadata": {},
   "outputs": [],
   "source": [
    "df4=pd.read_excel('/Users/tomisin/Library/docs/com~apple~CloudDocs/c.Documents/Mentorship_Program/SQL/Exercise1/CSV/credit_card.xlsx')"
   ]
  },
  {
   "cell_type": "code",
   "execution_count": 81,
   "id": "31bcc636",
   "metadata": {},
   "outputs": [
    {
     "data": {
      "text/html": [
       "<div>\n",
       "<style scoped>\n",
       "    .dataframe tbody tr th:only-of-type {\n",
       "        vertical-align: middle;\n",
       "    }\n",
       "\n",
       "    .dataframe tbody tr th {\n",
       "        vertical-align: top;\n",
       "    }\n",
       "\n",
       "    .dataframe thead th {\n",
       "        text-align: right;\n",
       "    }\n",
       "</style>\n",
       "<table border=\"1\" class=\"dataframe\">\n",
       "  <thead>\n",
       "    <tr style=\"text-align: right;\">\n",
       "      <th></th>\n",
       "      <th>card_id</th>\n",
       "      <th>customer_id</th>\n",
       "      <th>card_number</th>\n",
       "      <th>card_expiry_date</th>\n",
       "      <th>bank_name</th>\n",
       "    </tr>\n",
       "  </thead>\n",
       "  <tbody>\n",
       "    <tr>\n",
       "      <th>0</th>\n",
       "      <td>1</td>\n",
       "      <td>10000</td>\n",
       "      <td>123456789123</td>\n",
       "      <td>2025-01</td>\n",
       "      <td>Zenith</td>\n",
       "    </tr>\n",
       "    <tr>\n",
       "      <th>1</th>\n",
       "      <td>2</td>\n",
       "      <td>10001</td>\n",
       "      <td>125757625825</td>\n",
       "      <td>2025-02</td>\n",
       "      <td>Access</td>\n",
       "    </tr>\n",
       "    <tr>\n",
       "      <th>2</th>\n",
       "      <td>3</td>\n",
       "      <td>10002</td>\n",
       "      <td>128058462527</td>\n",
       "      <td>2025-03</td>\n",
       "      <td>Zenith</td>\n",
       "    </tr>\n",
       "    <tr>\n",
       "      <th>3</th>\n",
       "      <td>4</td>\n",
       "      <td>10003</td>\n",
       "      <td>130359299229</td>\n",
       "      <td>2025-04</td>\n",
       "      <td>Guaranteed Trust</td>\n",
       "    </tr>\n",
       "    <tr>\n",
       "      <th>4</th>\n",
       "      <td>5</td>\n",
       "      <td>10004</td>\n",
       "      <td>132660135931</td>\n",
       "      <td>2025-05</td>\n",
       "      <td>Guaranteed Trust</td>\n",
       "    </tr>\n",
       "  </tbody>\n",
       "</table>\n",
       "</div>"
      ],
      "text/plain": [
       "   card_id  customer_id   card_number card_expiry_date         bank_name\n",
       "0        1        10000  123456789123          2025-01            Zenith\n",
       "1        2        10001  125757625825          2025-02            Access\n",
       "2        3        10002  128058462527          2025-03            Zenith\n",
       "3        4        10003  130359299229          2025-04  Guaranteed Trust\n",
       "4        5        10004  132660135931          2025-05  Guaranteed Trust"
      ]
     },
     "execution_count": 81,
     "metadata": {},
     "output_type": "execute_result"
    }
   ],
   "source": [
    "df4.head()"
   ]
  },
  {
   "cell_type": "code",
   "execution_count": 82,
   "id": "a13f52b3",
   "metadata": {},
   "outputs": [
    {
     "name": "stdout",
     "output_type": "stream",
     "text": [
      "(1, 10000, 123456789123, '2025-01', 'Zenith')\n"
     ]
    }
   ],
   "source": [
    "rows = df4.values\n",
    "counter = 0\n",
    "for row in rows:\n",
    "    row = tuple(row)\n",
    "    if counter==0:\n",
    "        print(row)\n",
    "    counter+=1"
   ]
  },
  {
   "cell_type": "code",
   "execution_count": 86,
   "id": "b5e1c1ab",
   "metadata": {},
   "outputs": [],
   "source": [
    "rows = df4.values\n",
    "counter = 0\n",
    "for row in rows:\n",
    "    row = tuple(row)\n",
    "    query = f\"insert into credit_card values{row}\"\n",
    "    cur.execute(query)\n",
    "conn.commit()"
   ]
  },
  {
   "cell_type": "code",
   "execution_count": null,
   "id": "8df292de",
   "metadata": {},
   "outputs": [],
   "source": []
  },
  {
   "cell_type": "code",
   "execution_count": null,
   "id": "8d259dad",
   "metadata": {},
   "outputs": [],
   "source": []
  },
  {
   "cell_type": "code",
   "execution_count": null,
   "id": "ff54c80a",
   "metadata": {},
   "outputs": [],
   "source": []
  },
  {
   "cell_type": "code",
   "execution_count": null,
   "id": "a00f1981",
   "metadata": {},
   "outputs": [],
   "source": []
  },
  {
   "cell_type": "code",
   "execution_count": null,
   "id": "775197af",
   "metadata": {},
   "outputs": [],
   "source": []
  },
  {
   "cell_type": "code",
   "execution_count": null,
   "id": "f6659b72",
   "metadata": {},
   "outputs": [],
   "source": []
  },
  {
   "cell_type": "code",
   "execution_count": null,
   "id": "ad3a288f",
   "metadata": {},
   "outputs": [],
   "source": []
  }
 ],
 "metadata": {
  "kernelspec": {
   "display_name": "Python 3 (ipykernel)",
   "language": "python",
   "name": "python3"
  },
  "language_info": {
   "codemirror_mode": {
    "name": "ipython",
    "version": 3
   },
   "file_extension": ".py",
   "mimetype": "text/x-python",
   "name": "python",
   "nbconvert_exporter": "python",
   "pygments_lexer": "ipython3",
   "version": "3.9.7"
  },
  "varInspector": {
   "cols": {
    "lenName": 16,
    "lenType": 16,
    "lenVar": 40
   },
   "kernels_config": {
    "python": {
     "delete_cmd_postfix": "",
     "delete_cmd_prefix": "del ",
     "library": "var_list.py",
     "varRefreshCmd": "print(var_dic_list())"
    },
    "r": {
     "delete_cmd_postfix": ") ",
     "delete_cmd_prefix": "rm(",
     "library": "var_list.r",
     "varRefreshCmd": "cat(var_dic_list()) "
    }
   },
   "types_to_exclude": [
    "module",
    "function",
    "builtin_function_or_method",
    "instance",
    "_Feature"
   ],
   "window_display": false
  }
 },
 "nbformat": 4,
 "nbformat_minor": 5
}
